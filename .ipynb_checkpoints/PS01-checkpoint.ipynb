{
 "cells": [
  {
   "cell_type": "markdown",
   "id": "9750c655-cc9c-4f38-909a-5c82beeee774",
   "metadata": {},
   "source": [
    "DS 256 Data Science Programming, Fall 2024\n",
    "Prof Eatai Roth\n",
    "\n",
    "## Problem Set 1\n",
    "Due 09/06/2024 at 5p"
   ]
  },
  {
   "cell_type": "markdown",
   "id": "b2e925cf-e825-48f4-8e02-02ac83cd8f9e",
   "metadata": {},
   "source": [
    "#### Problem 1\n",
    "\n",
    "Write a function called ```madLibs``` that takes as input a name, a number, and a food and prints the string.\n",
    "\n",
    "\"My name is ____. I eat ___ ____ for breakfast every day.\"\n",
    "\n",
    "Inputs:\n",
    " - ```name``` - a string for a name\n",
    " - ```number``` - a string, float, or integer as a number\n",
    " - ```food``` - a food (or non-food) item\n",
    "\n",
    "Output:\n",
    " - no output (printing is not a returned value)"
   ]
  },
  {
   "cell_type": "code",
   "execution_count": 132,
   "id": "aba04c0b-9dca-4080-b19e-81de4a8cc4f8",
   "metadata": {},
   "outputs": [],
   "source": [
    "def madLibs(name, number, food):\n",
    "    name = input('name:')\n",
    "    number = input('number:')\n",
    "    food = input('food:')\n",
    "    madLibs = f'My name is {name}. I eat {number} {food} for breakfast every day.'\n",
    "    print(madLibs)"
   ]
  },
  {
   "cell_type": "code",
   "execution_count": 134,
   "id": "8a9c06c6-37ae-4359-bfa9-06edcd775573",
   "metadata": {},
   "outputs": [
    {
     "name": "stdin",
     "output_type": "stream",
     "text": [
      "name: Aubreigh\n",
      "number: 6\n",
      "food: eggs\n"
     ]
    },
    {
     "name": "stdout",
     "output_type": "stream",
     "text": [
      "My name is Aubreigh. I eat 6 eggs for breakfast every day.\n"
     ]
    }
   ],
   "source": [
    "madLibs('Aubreigh','6','eggs')"
   ]
  },
  {
   "cell_type": "markdown",
   "id": "6890190c-da40-4df8-bc91-b0d193ffb54c",
   "metadata": {},
   "source": [
    "#### Problem 2\n",
    "\n",
    "Write a function called ```echo``` that takes as input a word and a number and outputs a string with the word repeated the number of times specified. The words should be separated by the number of spaces the word is repeated; if 'hello' is echoed twice (three total), each 'hello' should be separated by two spaces.\n",
    "\n",
    "Inputs:\n",
    " - ```yell``` - a string\n",
    " - ```reps``` - an int\n",
    "\n",
    "Outputs:\n",
    " - ```yellyell``` - a string of the echoed input"
   ]
  },
  {
   "cell_type": "code",
   "execution_count": 173,
   "id": "7e11c741-2621-4b88-81f2-be0abba0487c",
   "metadata": {},
   "outputs": [],
   "source": [
    "def echo(word, reps): \n",
    "    echo = (' '*reps).join([word]*(reps+1))\n",
    "    return echo "
   ]
  },
  {
   "cell_type": "code",
   "execution_count": 175,
   "id": "971e6f78-57c9-4a96-bff5-09e06c08129a",
   "metadata": {},
   "outputs": [
    {
     "data": {
      "text/plain": [
       "'yell  yell  yell'"
      ]
     },
     "execution_count": 175,
     "metadata": {},
     "output_type": "execute_result"
    }
   ],
   "source": [
    "echo ('yell',2) "
   ]
  },
  {
   "cell_type": "code",
   "execution_count": 177,
   "id": "60b0b97b-4251-4e27-9b00-4361074e3347",
   "metadata": {},
   "outputs": [
    {
     "data": {
      "text/plain": [
       "''"
      ]
     },
     "execution_count": 177,
     "metadata": {},
     "output_type": "execute_result"
    }
   ],
   "source": [
    "echo ('good day', -1)"
   ]
  },
  {
   "cell_type": "code",
   "execution_count": 179,
   "id": "67a18d3f-8f8d-47ba-b351-d390b1ccacd6",
   "metadata": {},
   "outputs": [
    {
     "name": "stdout",
     "output_type": "stream",
     "text": [
      "You passed all the tests!\n"
     ]
    }
   ],
   "source": [
    "assert echo('hi', 2) == 'hi  hi  hi'\n",
    "assert echo('hello', 1) == 'hello hello'\n",
    "assert echo('goodbye', 0) == 'goodbye'\n",
    "assert echo('good day', -1) == ''\n",
    "\n",
    "print('You passed all the tests!')\n"
   ]
  },
  {
   "cell_type": "markdown",
   "id": "efe98052-e76f-4118-8eca-1bf3eba46df1",
   "metadata": {},
   "source": [
    "#### Problem 3\n",
    "\n",
    "Write a function called ```makePalindrome```.\n",
    "\n",
    "Inputs:\n",
    " - ```input``` - a list or a string\n",
    "\n",
    "Outputs:\n",
    " - ```inputupni``` - a list or a string\n",
    "\n",
    "The function should take the input list and append to it the reverse list minus the last entry. That is, there should not be a double entry in the middle of your palindrome list.\n",
    "\n",
    "For example:\n",
    "    makePalindrome([1,2,3]) should return [1,2,3,2,1]"
   ]
  },
  {
   "cell_type": "code",
   "execution_count": 47,
   "id": "02db9343-8905-4229-ba4a-7dd8afdd3cf1",
   "metadata": {},
   "outputs": [],
   "source": [
    "'''your code here'''\n",
    "\n",
    "def makePalindrome(input):\n",
    "    input2 = input[-2::-1]\n",
    "    input3= input + input2\n",
    "    return input3"
   ]
  },
  {
   "cell_type": "code",
   "execution_count": 33,
   "id": "2519d2ff-d48d-4863-9f62-5f59fb8e32b2",
   "metadata": {},
   "outputs": [],
   "source": [
    "input = 'abcdefg' + 'fedcba'"
   ]
  },
  {
   "cell_type": "code",
   "execution_count": 35,
   "id": "e9ce23ed-4422-4252-badf-bfeb728acfe6",
   "metadata": {},
   "outputs": [
    {
     "data": {
      "text/plain": [
       "'bcdefgfedcba'"
      ]
     },
     "execution_count": 35,
     "metadata": {},
     "output_type": "execute_result"
    }
   ],
   "source": [
    "input[-2::-1]"
   ]
  },
  {
   "cell_type": "code",
   "execution_count": null,
   "id": "a7818b0e-1bec-43d0-ab3e-360dbb99a57e",
   "metadata": {},
   "outputs": [],
   "source": [
    "start 2 from end, go up to but not including the end, go one step"
   ]
  },
  {
   "cell_type": "code",
   "execution_count": 49,
   "id": "92b84575-34c4-4a7b-9dee-cd51177d5110",
   "metadata": {},
   "outputs": [
    {
     "name": "stdout",
     "output_type": "stream",
     "text": [
      "You passed all the tests!\n"
     ]
    }
   ],
   "source": [
    "assert makePalindrome('abc')=='abcba'\n",
    "assert makePalindrome(['why', 'oh'])==['why','oh','why']\n",
    "assert makePalindrome([1,2,'tree',4,4])==[1,2,'tree',4,4,4,'tree',2,1]\n",
    "\n",
    "print('You passed all the tests!')"
   ]
  },
  {
   "cell_type": "markdown",
   "id": "8e42288f-c042-4425-a086-5de928c71ac6",
   "metadata": {},
   "source": [
    "#### Problem 4\n",
    "\n",
    "Write a function called ```isPalindrome``` that returns ```True``` if the input is a palindrome and ```False``` if not. For now, the input has to be an EXACT palindrome, including matching capitalization and punctuation.\n",
    "\n",
    "Input:\n",
    " - ```pali``` - list to check\n",
    "\n",
    "Output:\n",
    " - ```ilap``` - boolean"
   ]
  },
  {
   "cell_type": "code",
   "execution_count": 221,
   "id": "1d6b77fa-d24a-4d61-8018-60e4dbf136a0",
   "metadata": {},
   "outputs": [],
   "source": [
    "'''your code here'''\n",
    "def isPalindrome(s):\n",
    "    return s==s[::-1]\n",
    "    "
   ]
  },
  {
   "cell_type": "code",
   "execution_count": 223,
   "id": "944f892b-3238-46e1-ac53-f438f0828f82",
   "metadata": {},
   "outputs": [
    {
     "name": "stdout",
     "output_type": "stream",
     "text": [
      "False\n"
     ]
    }
   ],
   "source": [
    "print(isPalindrome('pali'))"
   ]
  },
  {
   "cell_type": "code",
   "execution_count": 229,
   "id": "1fb1b626-b1fb-4295-961f-703d611f2e95",
   "metadata": {},
   "outputs": [
    {
     "name": "stdout",
     "output_type": "stream",
     "text": [
      "False\n"
     ]
    }
   ],
   "source": [
    "print(isPalindrome('a man a plan a canal panama'))"
   ]
  },
  {
   "cell_type": "code",
   "execution_count": 231,
   "id": "951e0b9d-eb12-4e54-8ba1-96c813be683e",
   "metadata": {},
   "outputs": [
    {
     "name": "stdout",
     "output_type": "stream",
     "text": [
      "You passed all the tests!\n"
     ]
    }
   ],
   "source": [
    "assert isPalindrome('tacocat') == True\n",
    "assert isPalindrome('a man a plan a canal panama') == False\n",
    "assert isPalindrome([1,2,'tree',2,1]) == True\n",
    "\n",
    "print('You passed all the tests!')"
   ]
  },
  {
   "cell_type": "markdown",
   "id": "6d208993-1aed-4bb4-a49f-6c465b91b221",
   "metadata": {},
   "source": [
    "#### Problem 5\n",
    "\n",
    "Write a function called ```unzipList``` that takes as an input a list and outputs two lists the first containing all the even-indexed items and the second containing all the odd-indexed items.\n",
    "\n",
    "Input:\n",
    " - ```mylist``` - list or string input\n",
    "\n",
    "Outputs:\n",
    " - ```evens``` - list of even indexes\n",
    " - ```odds``` - list of odd indexes"
   ]
  },
  {
   "cell_type": "code",
   "execution_count": 281,
   "id": "881b0fa3-8208-4a38-8ca0-6070967a31d9",
   "metadata": {},
   "outputs": [],
   "source": [
    "'''your code here'''\n",
    "def unzipList(list):\n",
    "    even = list[0::2]\n",
    "    odd = list[1::2]\n",
    "    return even,odd\n"
   ]
  },
  {
   "cell_type": "code",
   "execution_count": 283,
   "id": "238237a8-b6b0-454a-aa3d-9a56d3a4fbb0",
   "metadata": {},
   "outputs": [],
   "source": [
    "mylist = [1,2,3,4,5,6,7,8]"
   ]
  },
  {
   "cell_type": "code",
   "execution_count": 285,
   "id": "7699592e-9a7c-4b26-84a5-63ff9b7a418a",
   "metadata": {},
   "outputs": [
    {
     "data": {
      "text/plain": [
       "([1, 3, 5, 7], [2, 4, 6, 8])"
      ]
     },
     "execution_count": 285,
     "metadata": {},
     "output_type": "execute_result"
    }
   ],
   "source": [
    "unzipList(mylist)"
   ]
  },
  {
   "cell_type": "code",
   "execution_count": 287,
   "id": "dbff7524-554d-4c0d-9d68-b7b31962ca53",
   "metadata": {},
   "outputs": [
    {
     "data": {
      "text/plain": [
       "([1, 2, 3], ['a', 'b'])"
      ]
     },
     "execution_count": 287,
     "metadata": {},
     "output_type": "execute_result"
    }
   ],
   "source": [
    "unzipList([1, 'a', 2, 'b', 3])"
   ]
  },
  {
   "cell_type": "code",
   "execution_count": 291,
   "id": "ba2e525d-6569-49a3-9683-d9eb7ab478ea",
   "metadata": {},
   "outputs": [
    {
     "name": "stdout",
     "output_type": "stream",
     "text": [
      "You passed all the tests!\n"
     ]
    }
   ],
   "source": [
    "assert unzipList([1, 'a', 2, 'b', 3])==([1,2,3], ['a','b'])\n",
    "assert unzipList(['bye'])==(['bye'],[])\n",
    "assert unzipList('nonosense')==('nnsne','ooes')\n",
    "\n",
    "print('You passed all the tests!')"
   ]
  },
  {
   "cell_type": "markdown",
   "id": "e606e397-0f75-4d6e-94d0-a5d242b92cbb",
   "metadata": {},
   "source": [
    "#### Problem 6\n",
    "\n",
    "Write a function ```isLeapYear``` that returns a boolean indicating whether the year is a leap year.\n",
    "\n",
    "Leap years are divisible by 4, except we don't have leap years in the zero-th year of a new century (not divisible by 100) unless that year is divisible by 400.\n",
    "\n",
    "Hint: Look up the modulo operator for Python."
   ]
  },
  {
   "cell_type": "code",
   "execution_count": 297,
   "id": "e7d55c77-a6d0-4f9d-8bff-9e550aec3a2d",
   "metadata": {},
   "outputs": [],
   "source": [
    "'''your code here'''\n",
    "def isLeapYear(y):\n",
    "    leap = (y%4==0) and not(y%100==0) or (y%400==0)\n",
    "    return leap\n",
    "    "
   ]
  },
  {
   "cell_type": "code",
   "execution_count": 299,
   "id": "b5d51da1-0e09-45f0-aa75-d7585f98630e",
   "metadata": {},
   "outputs": [
    {
     "data": {
      "text/plain": [
       "True"
      ]
     },
     "execution_count": 299,
     "metadata": {},
     "output_type": "execute_result"
    }
   ],
   "source": [
    "isLeapYear(2000)"
   ]
  },
  {
   "cell_type": "code",
   "execution_count": 7,
   "id": "8aeba4d0-5d83-4694-9ad4-57baf4aa527e",
   "metadata": {},
   "outputs": [],
   "source": [
    "def isOdd(number):\n",
    "    return number%2==1\n",
    "\n",
    "def isEven(number):\n",
    "    return number%2==0"
   ]
  },
  {
   "cell_type": "code",
   "execution_count": 301,
   "id": "43d51847-9172-4bf8-8505-3a3336f4b5dc",
   "metadata": {},
   "outputs": [
    {
     "name": "stdout",
     "output_type": "stream",
     "text": [
      "You passed all the tests!\n"
     ]
    }
   ],
   "source": [
    "assert isLeapYear(2024)\n",
    "assert isLeapYear(2000)\n",
    "assert not isLeapYear(1900)\n",
    "assert isLeapYear(1600)\n",
    "\n",
    "print('You passed all the tests!')"
   ]
  },
  {
   "cell_type": "markdown",
   "id": "c8668928-01e9-408c-8921-3f8de9dfe2a0",
   "metadata": {},
   "source": [
    "#### Problem 7\n",
    "\n",
    "Write a function called ```daysInMonth```. The function should take the name of a month and return the number of days in that month. \n",
    "\n",
    "Try to make the function forgiving as to how the user enters the month name.\n",
    "\n",
    "Hint: look up \"lowercase Python\""
   ]
  },
  {
   "cell_type": "code",
   "execution_count": 313,
   "id": "ba32383c-6773-4db0-9a45-912850160cbe",
   "metadata": {},
   "outputs": [],
   "source": [
    "'''your code here'''\n",
    "def daysInMonth(month):\n",
    "    days = {'january': 31, 'february': 28, 'march': 31, 'april': 30, 'may': 31, 'june': 30, 'july': 31, 'august': 31, 'september': 30, 'october': 31, 'november': 30, 'december': 31}\n",
    "    month = month.strip().lower()\n",
    "    for full_month in days:\n",
    "        if full_month.startswith(month):\n",
    "            return days[full_month]\n"
   ]
  },
  {
   "cell_type": "code",
   "execution_count": 319,
   "id": "2e085e04-3c20-4cc1-bb10-5713228a39c8",
   "metadata": {},
   "outputs": [
    {
     "data": {
      "text/plain": [
       "28"
      ]
     },
     "execution_count": 319,
     "metadata": {},
     "output_type": "execute_result"
    }
   ],
   "source": [
    "daysInMonth('feb')"
   ]
  },
  {
   "cell_type": "code",
   "execution_count": 321,
   "id": "57d699b7-54a7-4599-8392-c9134d1c70ef",
   "metadata": {},
   "outputs": [
    {
     "name": "stdout",
     "output_type": "stream",
     "text": [
      "You passed all the tests!\n"
     ]
    }
   ],
   "source": [
    "assert daysInMonth('January')==31\n",
    "assert daysInMonth('feb')==28\n",
    "assert daysInMonth('september')==30\n",
    "\n",
    "print('You passed all the tests!')"
   ]
  },
  {
   "cell_type": "markdown",
   "id": "dc81c822-f21d-4ea3-88ae-6f889c395ed1",
   "metadata": {},
   "source": [
    "#### Problem 8\n",
    "Write a function called ```longerList``` that takes as input two lists and returns the longer of the two. If the lists are the same length, return the second list.\n",
    "\n",
    "DO **NOT** USE AN ```if``` STATEMENT. Yes, this is tricky."
   ]
  },
  {
   "cell_type": "code",
   "execution_count": 377,
   "id": "b4b07897-f709-4737-aaa1-fba3ad90d0b4",
   "metadata": {},
   "outputs": [],
   "source": [
    "'''your code here'''\n",
    "def longerList(list1, list2):\n",
    "    return (len(list1)> len(list2))* list1 or list2"
   ]
  },
  {
   "cell_type": "code",
   "execution_count": 379,
   "id": "a0935d64-3099-42e6-b0c9-d23fbe10a03c",
   "metadata": {},
   "outputs": [
    {
     "name": "stdout",
     "output_type": "stream",
     "text": [
      "You passed all the tests!\n"
     ]
    }
   ],
   "source": [
    "L0 = []\n",
    "L1 = [1,2,3]\n",
    "L2 = [4,5,6,7,8]\n",
    "L3 = 'hello'\n",
    "L4 = 'there'\n",
    "L5 = 'hi'\n",
    "\n",
    "assert longerList(L0, L1) == L1\n",
    "assert longerList(L2, L1) == L2\n",
    "assert longerList(L3, L4) == L4\n",
    "assert longerList(L4, L3) == L3\n",
    "assert longerList(L3, L5) == L3\n",
    "\n",
    "print('You passed all the tests!')"
   ]
  },
  {
   "cell_type": "code",
   "execution_count": null,
   "id": "36f2e3ff-7216-4eeb-aad5-ba3aad98b40c",
   "metadata": {},
   "outputs": [],
   "source": []
  }
 ],
 "metadata": {
  "kernelspec": {
   "display_name": "Python 3 (ipykernel)",
   "language": "python",
   "name": "python3"
  },
  "language_info": {
   "codemirror_mode": {
    "name": "ipython",
    "version": 3
   },
   "file_extension": ".py",
   "mimetype": "text/x-python",
   "name": "python",
   "nbconvert_exporter": "python",
   "pygments_lexer": "ipython3",
   "version": "3.12.4"
  }
 },
 "nbformat": 4,
 "nbformat_minor": 5
}
