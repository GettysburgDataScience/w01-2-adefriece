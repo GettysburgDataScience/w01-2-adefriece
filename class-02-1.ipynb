{
 "cells": [
  {
   "cell_type": "markdown",
   "id": "01e97ff6-f704-4823-bbfd-c145dae00844",
   "metadata": {},
   "source": [
    "DS 256 Data Science Programming, Fall 2024\n",
    "Prof Eatai Roth\n",
    "\n",
    "Class 1.1\n",
    "\n",
    "This class we'll be introducing new data types: lists and tuples.\n",
    "You can read more about lists and tuples in [WTOP Ch 6](https://jakevdp.github.io/WhirlwindTourOfPython/06-built-in-data-structures.html).\n",
    "\n"
   ]
  },
  {
   "cell_type": "markdown",
   "id": "44fee194-34fd-432b-9268-ef937c921d23",
   "metadata": {},
   "source": [
    "### ASIDE: downloading the textbook\n",
    "\n",
    "You can download (NOT clone) the entire textbook as interactive notebooks."
   ]
  },
  {
   "cell_type": "markdown",
   "id": "c839eaf5-0cf0-4027-b238-3588851f8ece",
   "metadata": {},
   "source": [
    "### ASIDE: how to export class notes to PDF\n",
    "\n",
    "If you'd like to keep a copy of class notes as PDF, you can export Jupyter notebooks using \n",
    "\n",
    "File > Save and Export Notebook as... > PDF\n",
    "\n",
    "If you get an error that you are missing XeLaTeX, you can install XeLatex on your machine with either:\n",
    " - [MikTeX for Windows, MacOs, Linux](https://miktex.org/download)\n",
    "\n",
    "If you are using MacOS, open terminal and type.\n",
    "\n",
    "```export PATH=/Library/TeX/texbin:$PATH```\n",
    "\n",
    "Then quite Jupyter Lab (File > Shut Down) and relaunch.\n",
    "\n",
    "You may also need to [install pandoc](https://pandoc.org/installing.html)."
   ]
  },
  {
   "cell_type": "markdown",
   "id": "0a0b6ac0-cbf3-4e85-bc69-6352da3f7253",
   "metadata": {},
   "source": [
    "## Lists\n",
    "\n",
    "A *list* is an ordered grouping of data.\n",
    "\n",
    "Lists in Python are enclosed in brackets with items separated by commas. Lists can contain any object type and types don't need to be consistent within the list."
   ]
  },
  {
   "cell_type": "code",
   "execution_count": 7,
   "id": "82be8d3e-ebd2-49a4-9b49-5c02c02f2120",
   "metadata": {},
   "outputs": [],
   "source": [
    "alist = [2, 3, 'Aubreigh', 4.2]\n",
    "Blist = [5,6,9,10,25]\n",
    "Clist = ['Cooper', 'MJ', 'Clyde'] "
   ]
  },
  {
   "cell_type": "markdown",
   "id": "920fe9c2-e79e-4b09-bc57-770ac10b84f0",
   "metadata": {},
   "source": [
    "### Adding to lists\n",
    "\n",
    "You can add an item to the end of a list with ```.append(item)```\n",
    "\n",
    "You can concatenate two lists with +."
   ]
  },
  {
   "cell_type": "code",
   "execution_count": 11,
   "id": "a7fd31d4-857f-4bc2-86bc-4d364052c5af",
   "metadata": {},
   "outputs": [
    {
     "data": {
      "text/plain": [
       "[2, 3, 'Aubreigh', 4.2, 'hello']"
      ]
     },
     "execution_count": 11,
     "metadata": {},
     "output_type": "execute_result"
    }
   ],
   "source": [
    "alist.append ('hello')\n",
    "alist"
   ]
  },
  {
   "cell_type": "code",
   "execution_count": 15,
   "id": "3cd78e22-e567-4e66-b09a-99b187be2dca",
   "metadata": {},
   "outputs": [
    {
     "data": {
      "text/plain": [
       "[2, 3, 'Aubreigh', 4.2, 'hello', 'Cooper', 'MJ', 'Clyde']"
      ]
     },
     "execution_count": 15,
     "metadata": {},
     "output_type": "execute_result"
    }
   ],
   "source": [
    "alist+Clist"
   ]
  },
  {
   "cell_type": "code",
   "execution_count": 33,
   "id": "96210088-39e4-46a9-901e-dbad90bb2275",
   "metadata": {},
   "outputs": [
    {
     "name": "stdout",
     "output_type": "stream",
     "text": [
      "[2, 3, 'Aubreigh', 4.2, 'hello', ['Cooper', 'MJ', 'Clyde'], ['Cooper', 'MJ', 'Clyde'], ['Cooper', 'MJ', 'Clyde'], ['Cooper', 'MJ', 'Clyde'], ['Cooper', 'MJ', 'Clyde'], ['Cooper', 'MJ', 'Clyde'], ['Cooper', 'MJ', 'Clyde']]\n"
     ]
    }
   ],
   "source": [
    "alist.append(Clist)\n",
    "E = alist\n",
    "print(E)"
   ]
  },
  {
   "cell_type": "markdown",
   "id": "7e066354-5ec0-4db7-85a1-e41100a4ead7",
   "metadata": {},
   "source": [
    "### Length of lists\n",
    "\n",
    "You can get the length of a list with the function ```len(list)```"
   ]
  },
  {
   "cell_type": "code",
   "execution_count": 9,
   "id": "4ea7c52a-5ca1-46a2-b664-ae86d3fe8606",
   "metadata": {},
   "outputs": [
    {
     "data": {
      "text/plain": [
       "5"
      ]
     },
     "execution_count": 9,
     "metadata": {},
     "output_type": "execute_result"
    }
   ],
   "source": []
  },
  {
   "cell_type": "markdown",
   "id": "fcf007d9-7d24-4600-aab5-010b27ff3790",
   "metadata": {},
   "source": [
    "### Indexing of lists\n",
    "\n",
    "The locations in a list are indexed by number, starting at 0. That is, a list starts with a zero-th entry.\n",
    "\n",
    "Alternatively, you can index lists from the end backwards starting with -1 (the last item in a list).\n",
    "\n",
    "You extract a value from a list using brackets. For example, ```myList[5]``` would return the 6th entry of the list.\n",
    "\n",
    "And you can use indexing to assign new values to items in the list."
   ]
  },
  {
   "cell_type": "code",
   "execution_count": 40,
   "id": "e1bcd723-82f7-4a32-a0c8-b95634cc244a",
   "metadata": {},
   "outputs": [
    {
     "data": {
      "text/plain": [
       "[5, 6, 9, 10, 25]"
      ]
     },
     "execution_count": 40,
     "metadata": {},
     "output_type": "execute_result"
    }
   ],
   "source": [
    "Blist"
   ]
  },
  {
   "cell_type": "code",
   "execution_count": 42,
   "id": "243ddafd-a9ce-4a57-aa9f-3d46e9f80e72",
   "metadata": {},
   "outputs": [
    {
     "data": {
      "text/plain": [
       "5"
      ]
     },
     "execution_count": 42,
     "metadata": {},
     "output_type": "execute_result"
    }
   ],
   "source": [
    "\n",
    "Blist[0]"
   ]
  },
  {
   "cell_type": "code",
   "execution_count": 44,
   "id": "430e66d8-dcea-4d14-a816-41205975aed0",
   "metadata": {},
   "outputs": [
    {
     "data": {
      "text/plain": [
       "10"
      ]
     },
     "execution_count": 44,
     "metadata": {},
     "output_type": "execute_result"
    }
   ],
   "source": [
    "\n",
    "Blist[-2]"
   ]
  },
  {
   "cell_type": "markdown",
   "id": "34d0a707-71d7-4b06-a67e-4c19d75e5fce",
   "metadata": {},
   "source": [
    "### Slicing lists\n",
    "\n",
    "A slice is an extraction of a sub-list from a list.\n",
    "\n",
    "You slice a list as:\n",
    "\n",
    "```\n",
    "myList[startIdx:stopIdx:stepSize]\n",
    "```\n",
    "Notes:\n",
    "\n",
    " - the list will go up to but not include the stopIdx.\n",
    " - any of the parameters can be skipped.\n",
    "\n",
    "Try some of these:\n",
    " - myList[0:5:2] - goes from 0 to 4 skipping every other\n",
    " - myList[0:5] - goes from 0 to 4\n",
    " - myList[4::] - starts at 4th number and goes to last number\n",
    " - myList[::3] - starts at 0 skipping by 3\n",
    " - myList[-3:] - starts at the end and counts backward 3\n"
   ]
  },
  {
   "cell_type": "code",
   "execution_count": 50,
   "id": "8ff7b70b-81fb-4a58-9b8b-9679d9ec8f2f",
   "metadata": {},
   "outputs": [],
   "source": [
    "Alist = [0,1,2,3,4,5]"
   ]
  },
  {
   "cell_type": "code",
   "execution_count": 58,
   "id": "e208005c-f46b-4a16-8118-572fef7e5123",
   "metadata": {},
   "outputs": [
    {
     "data": {
      "text/plain": [
       "[0, 2, 4]"
      ]
     },
     "execution_count": 58,
     "metadata": {},
     "output_type": "execute_result"
    }
   ],
   "source": [
    "Alist[0:5:2]"
   ]
  },
  {
   "cell_type": "code",
   "execution_count": 62,
   "id": "304b86fa-00a0-4eac-b405-001861230043",
   "metadata": {},
   "outputs": [],
   "source": [
    "myList=[0,1,2,3,4,5,6,7,8,9,10]"
   ]
  },
  {
   "cell_type": "code",
   "execution_count": 66,
   "id": "4ec54bb7-cc36-4aac-bf2b-fd735fe13ed9",
   "metadata": {},
   "outputs": [
    {
     "data": {
      "text/plain": [
       "[0, 2, 4]"
      ]
     },
     "execution_count": 66,
     "metadata": {},
     "output_type": "execute_result"
    }
   ],
   "source": [
    "myList[0:5:2]"
   ]
  },
  {
   "cell_type": "code",
   "execution_count": 68,
   "id": "66b5a151-3826-4c22-81eb-c9ddc1e31fc4",
   "metadata": {},
   "outputs": [
    {
     "data": {
      "text/plain": [
       "[0, 1, 2, 3, 4]"
      ]
     },
     "execution_count": 68,
     "metadata": {},
     "output_type": "execute_result"
    }
   ],
   "source": [
    "myList[0:5]"
   ]
  },
  {
   "cell_type": "code",
   "execution_count": 70,
   "id": "e603a0d9-460a-447e-adb7-5cf10a9e3e62",
   "metadata": {},
   "outputs": [
    {
     "data": {
      "text/plain": [
       "[4, 5, 6, 7, 8, 9, 10]"
      ]
     },
     "execution_count": 70,
     "metadata": {},
     "output_type": "execute_result"
    }
   ],
   "source": [
    "myList[4::]"
   ]
  },
  {
   "cell_type": "code",
   "execution_count": 72,
   "id": "bf677a53-7681-493f-a9e9-8fbc9c30e413",
   "metadata": {},
   "outputs": [
    {
     "data": {
      "text/plain": [
       "[0, 3, 6, 9]"
      ]
     },
     "execution_count": 72,
     "metadata": {},
     "output_type": "execute_result"
    }
   ],
   "source": [
    "myList[::3]"
   ]
  },
  {
   "cell_type": "code",
   "execution_count": 74,
   "id": "0a66f1a4-9869-4746-a605-198a8bef59bf",
   "metadata": {},
   "outputs": [
    {
     "data": {
      "text/plain": [
       "[8, 9, 10]"
      ]
     },
     "execution_count": 74,
     "metadata": {},
     "output_type": "execute_result"
    }
   ],
   "source": [
    "myList[-3:]"
   ]
  },
  {
   "cell_type": "code",
   "execution_count": 76,
   "id": "5ecd1f84-3581-4002-8ce8-1481eb8ce6db",
   "metadata": {},
   "outputs": [
    {
     "data": {
      "text/plain": [
       "[0, 1, 2, 3, 4, 5, 6, 7]"
      ]
     },
     "execution_count": 76,
     "metadata": {},
     "output_type": "execute_result"
    }
   ],
   "source": [
    "myList[-11:-3]"
   ]
  },
  {
   "cell_type": "code",
   "execution_count": 78,
   "id": "16e71764-3112-4680-91e4-551d6bd01a85",
   "metadata": {},
   "outputs": [
    {
     "data": {
      "text/plain": [
       "[8, 7, 6, 5, 4, 3, 2, 1]"
      ]
     },
     "execution_count": 78,
     "metadata": {},
     "output_type": "execute_result"
    }
   ],
   "source": [
    "myList[-3:0:-1]"
   ]
  },
  {
   "cell_type": "code",
   "execution_count": 82,
   "id": "873a80d4-fa8f-40ce-a651-420fa8a0be97",
   "metadata": {},
   "outputs": [
    {
     "data": {
      "text/plain": [
       "'olleh'"
      ]
     },
     "execution_count": 82,
     "metadata": {},
     "output_type": "execute_result"
    }
   ],
   "source": [
    "'hello'[-1::-1]"
   ]
  },
  {
   "cell_type": "markdown",
   "id": "ccb08874-9c9b-4ec8-8193-abc4b4f4186e",
   "metadata": {},
   "source": [
    "### Finding an element in a list\n",
    "\n",
    "If a list contains an element, you can find where that element is using ```.index(searchItem)```"
   ]
  },
  {
   "cell_type": "code",
   "execution_count": 88,
   "id": "0c2a7bce-1fe8-4c87-a9e0-3ff760aaea49",
   "metadata": {},
   "outputs": [],
   "source": [
    "myfavoritepets = ['Cooper','Clyde','Molly', 'Fletcher']\n",
    "myfavoritepets.index('Cooper')\n",
    "idx = myfavoritepets.index('Molly')"
   ]
  },
  {
   "cell_type": "code",
   "execution_count": 90,
   "id": "303eabc5-1e40-4c4f-bcdb-d88a59c53d58",
   "metadata": {},
   "outputs": [
    {
     "data": {
      "text/plain": [
       "['Cooper', 'Clyde', 'Mollie', 'Fletcher']"
      ]
     },
     "execution_count": 90,
     "metadata": {},
     "output_type": "execute_result"
    }
   ],
   "source": [
    "myfavoritepets[idx] = 'Mollie'\n",
    "myfavoritepets"
   ]
  },
  {
   "cell_type": "markdown",
   "id": "f54c3daa-c954-4583-b116-3baf35614b1a",
   "metadata": {},
   "source": [
    "## Tuples\n",
    "\n",
    "Tuples are like lists in that they group any number of any kind of items. A tuple is enclosed in parentheses.\n",
    "\n",
    "```\n",
    "myTuple = (1,2,'hello')\n",
    "```\n",
    "HOWEVER, tuples are immutable. That just means that once they're created, you cannot change them. \n",
    "-no append\n",
    "-no add\n",
    "-no changing"
   ]
  },
  {
   "cell_type": "code",
   "execution_count": 92,
   "id": "aac0b0a3-8b1a-4394-8031-42f320cd0dae",
   "metadata": {},
   "outputs": [],
   "source": [
    "myTuple = (1,2,'hello')"
   ]
  },
  {
   "cell_type": "code",
   "execution_count": 94,
   "id": "f01a1a49-d1b7-4db6-818c-296d1a20aa00",
   "metadata": {},
   "outputs": [
    {
     "data": {
      "text/plain": [
       "3"
      ]
     },
     "execution_count": 94,
     "metadata": {},
     "output_type": "execute_result"
    }
   ],
   "source": [
    "len(myTuple)"
   ]
  },
  {
   "cell_type": "code",
   "execution_count": 96,
   "id": "fbdfb43b-098d-48c3-a347-eab28d293dcb",
   "metadata": {},
   "outputs": [
    {
     "data": {
      "text/plain": [
       "'hello'"
      ]
     },
     "execution_count": 96,
     "metadata": {},
     "output_type": "execute_result"
    }
   ],
   "source": [
    "myTuple[2]"
   ]
  },
  {
   "cell_type": "code",
   "execution_count": 98,
   "id": "f5869b86-8332-43e0-95be-240b10adda97",
   "metadata": {},
   "outputs": [
    {
     "data": {
      "text/plain": [
       "('hello', 2, 1)"
      ]
     },
     "execution_count": 98,
     "metadata": {},
     "output_type": "execute_result"
    }
   ],
   "source": [
    "myTuple[-1::-1]"
   ]
  },
  {
   "cell_type": "code",
   "execution_count": null,
   "id": "ad31d008-4a75-4f80-af5f-cb4225e48d5f",
   "metadata": {},
   "outputs": [],
   "source": []
  },
  {
   "cell_type": "markdown",
   "id": "9066c769-11de-4706-b4ff-e1135374316f",
   "metadata": {},
   "source": [
    "## Logical operators\n",
    "\n",
    "If you make a comparison of two values, the result is a Boolean. Some comparisons you might make are:\n",
    "\n",
    " - \\> - greater than\n",
    " - < - less than\n",
    " - \\>= greater than or equal to\n",
    " - == equal to (note the difference between = (assigning a value) and == (True or false)\n",
    " - != not equal to\n",
    "\n",
    "You can also combine boolean statements with *logical operators*:\n",
    "\n",
    " - ```and``` - A and B is ```True``` only if both are ```True```\n",
    " - ```or``` - A or B is ```True``` if at least one of them is ```True```\n",
    " - not - not A is the opposite of whatever A is."
   ]
  },
  {
   "cell_type": "code",
   "execution_count": 104,
   "id": "fb43b8f7-70f3-4401-9e58-a529037862ce",
   "metadata": {},
   "outputs": [
    {
     "data": {
      "text/plain": [
       "False"
      ]
     },
     "execution_count": 104,
     "metadata": {},
     "output_type": "execute_result"
    }
   ],
   "source": [
    "myList == 5"
   ]
  },
  {
   "cell_type": "code",
   "execution_count": 115,
   "id": "675f8adb-a3f9-4735-8515-1da8ff4eda13",
   "metadata": {},
   "outputs": [
    {
     "data": {
      "text/plain": [
       "True"
      ]
     },
     "execution_count": 115,
     "metadata": {},
     "output_type": "execute_result"
    }
   ],
   "source": [
    "5 != 6"
   ]
  },
  {
   "cell_type": "code",
   "execution_count": 121,
   "id": "a4cdb1d6-7e6e-4a67-91e7-ec34baf3a9a4",
   "metadata": {},
   "outputs": [
    {
     "data": {
      "text/plain": [
       "True"
      ]
     },
     "execution_count": 121,
     "metadata": {},
     "output_type": "execute_result"
    }
   ],
   "source": [
    "False or True"
   ]
  },
  {
   "cell_type": "code",
   "execution_count": 123,
   "id": "0388628e-d9dd-40a1-bf2e-87bc8875115a",
   "metadata": {},
   "outputs": [
    {
     "data": {
      "text/plain": [
       "False"
      ]
     },
     "execution_count": 123,
     "metadata": {},
     "output_type": "execute_result"
    }
   ],
   "source": [
    "False or False"
   ]
  },
  {
   "cell_type": "code",
   "execution_count": 125,
   "id": "b62fadbf-5b68-4bfd-ad81-aa9a53c3227d",
   "metadata": {},
   "outputs": [
    {
     "data": {
      "text/plain": [
       "False"
      ]
     },
     "execution_count": 125,
     "metadata": {},
     "output_type": "execute_result"
    }
   ],
   "source": [
    "True and False"
   ]
  },
  {
   "cell_type": "code",
   "execution_count": 127,
   "id": "646b0266-1c29-4075-868d-9e16f5ef43d4",
   "metadata": {},
   "outputs": [
    {
     "data": {
      "text/plain": [
       "True"
      ]
     },
     "execution_count": 127,
     "metadata": {},
     "output_type": "execute_result"
    }
   ],
   "source": [
    "True and True"
   ]
  },
  {
   "cell_type": "code",
   "execution_count": 131,
   "id": "81eca3c9-6e70-46ae-97be-5eef1effc004",
   "metadata": {},
   "outputs": [
    {
     "data": {
      "text/plain": [
       "0"
      ]
     },
     "execution_count": 131,
     "metadata": {},
     "output_type": "execute_result"
    }
   ],
   "source": [
    "False*6"
   ]
  },
  {
   "cell_type": "code",
   "execution_count": 133,
   "id": "c544a01e-073d-4463-8908-7528d901f827",
   "metadata": {},
   "outputs": [
    {
     "data": {
      "text/plain": [
       "6"
      ]
     },
     "execution_count": 133,
     "metadata": {},
     "output_type": "execute_result"
    }
   ],
   "source": [
    "False+6"
   ]
  },
  {
   "cell_type": "code",
   "execution_count": 135,
   "id": "7c44c688-9693-4d35-8d19-72d434913692",
   "metadata": {},
   "outputs": [
    {
     "data": {
      "text/plain": [
       "7"
      ]
     },
     "execution_count": 135,
     "metadata": {},
     "output_type": "execute_result"
    }
   ],
   "source": [
    "True+6"
   ]
  },
  {
   "cell_type": "markdown",
   "id": "d05c375c-67ea-4e08-8858-7f410d451f75",
   "metadata": {},
   "source": [
    "You can also consider booleans to have values of 0 (for False) or 1 (for True).\n",
    "\n",
    "Try some arithmatic with True and False."
   ]
  },
  {
   "cell_type": "code",
   "execution_count": null,
   "id": "5c130b31-708f-48a0-9e8c-090659ac50c5",
   "metadata": {},
   "outputs": [],
   "source": []
  }
 ],
 "metadata": {
  "kernelspec": {
   "display_name": "Python 3 (ipykernel)",
   "language": "python",
   "name": "python3"
  },
  "language_info": {
   "codemirror_mode": {
    "name": "ipython",
    "version": 3
   },
   "file_extension": ".py",
   "mimetype": "text/x-python",
   "name": "python",
   "nbconvert_exporter": "python",
   "pygments_lexer": "ipython3",
   "version": "3.12.4"
  }
 },
 "nbformat": 4,
 "nbformat_minor": 5
}
